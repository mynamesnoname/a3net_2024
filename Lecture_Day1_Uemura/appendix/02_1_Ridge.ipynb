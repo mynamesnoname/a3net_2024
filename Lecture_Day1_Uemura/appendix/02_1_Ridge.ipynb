{
 "cells": [
  {
   "cell_type": "code",
   "execution_count": null,
   "metadata": {},
   "outputs": [],
   "source": [
    "import numpy as np\n",
    "import pymc as pm\n",
    "import matplotlib.pyplot as plt\n",
    "import arviz as az\n",
    "import pandas as pd\n",
    "import sklearn"
   ]
  },
  {
   "cell_type": "code",
   "execution_count": null,
   "metadata": {},
   "outputs": [],
   "source": [
    "# 模拟数据\n",
    "X = np.random.randn(100) * 5 +7\n",
    "error = np.random.randn(100) * 50\n",
    "Y_obs = 5 * X ** 2 + 10 * X + error\n",
    "\n",
    "plt.scatter(X, Y_obs, s=5)"
   ]
  },
  {
   "cell_type": "code",
   "execution_count": null,
   "metadata": {},
   "outputs": [],
   "source": [
    "# Ridge regularization parameter (lambda for ridge penalty)\n",
    "lambda_ridge = 0.1  # ridge regression 的 lambda, 正则化强度参数\n",
    "\n",
    "with pm.Model() as model_ridge:\n",
    "    # Priors for unknown model parameters with regularization\n",
    "    # a with ridge penalty (small sigma means regularization)\n",
    "    a = pm.Normal('a', mu=0, sigma=1/np.sqrt(2*lambda_ridge))\n",
    "    # b with ridge penalty\n",
    "    b = pm.Normal('b', mu=0, sigma=1/np.sqrt(2*lambda_ridge))\n",
    "    # c with ridge penalty\n",
    "    c = pm.Normal('c', mu=0, sigma=1/np.sqrt(2*lambda_ridge))\n",
    "\n",
    "    # Expected value of outcome\n",
    "    mu = a * X ** 2 + b * X + c\n",
    "\n",
    "    # Likelihood (sampling distribution) of observations\n",
    "    Y = pm.Normal('Y', mu=mu, sigma=10, observed=Y_obs)\n",
    "\n",
    "    # Sampling\n",
    "    trace_ridge = pm.sample(1000, tune=1000, return_inferencedata=True)\n",
    "\n",
    "# Plot the results\n",
    "pm.plot_trace(trace_ridge)\n",
    "plt.show()"
   ]
  },
  {
   "cell_type": "code",
   "execution_count": null,
   "metadata": {},
   "outputs": [],
   "source": [
    "X_test = np.linspace(np.floor(X.min()), np.ceil(X.max()), 100)\n",
    "\n",
    "# 真值\n",
    "Y_true = 5 * X_test ** 2 + 10 * X_test\n",
    "\n",
    "# 计算后验平均值\n",
    "a_posterior_mean = trace_ridge.posterior[\"a\"].mean().values\n",
    "b_posterior_mean = trace_ridge.posterior[\"b\"].mean().values\n",
    "c_posterior_mean = trace_ridge.posterior[\"c\"].mean().values\n",
    "Y_fit = a_posterior_mean * X_test ** 2 + b_posterior_mean * X_test + c_posterior_mean\n",
    "\n",
    "# 计算后验标准差\n",
    "a_posterior_std = trace_ridge.posterior[\"a\"].std().values\n",
    "b_posterior_std = trace_ridge.posterior[\"b\"].std().values\n",
    "c_posterior_std = trace_ridge.posterior[\"c\"].std().values\n",
    "Y_errorpred = a_posterior_std * X_test ** 2 + b_posterior_std * X_test + c_posterior_std\n",
    "\n",
    "edge1 = Y_fit + Y_errorpred\n",
    "edge2 = Y_fit - Y_errorpred\n",
    "\n",
    "crosspoint = 0\n",
    "for i in range(len(X_test)):\n",
    "    if edge1[i] < edge2[i]:\n",
    "        crosspoint = i\n",
    "        break\n",
    "\n",
    "MSE = np.mean((Y_fit - Y_true) ** 2)"
   ]
  },
  {
   "cell_type": "code",
   "execution_count": null,
   "metadata": {},
   "outputs": [],
   "source": [
    "# 绘制填充区间\n",
    "# 绘制数据点\n",
    "plt.scatter(X, Y_obs, s=5)\n",
    "\n",
    "# 绘制后验平均拟合线\n",
    "plt.plot(X_test, Y_fit, color='red', label='a={:.2f} b={:.2f} c={:.2f} MSE={:.2f}'.format(\n",
    "         a_posterior_mean, b_posterior_mean, c_posterior_mean, MSE))\n",
    "\n",
    "if crosspoint:\n",
    "    plt.fill_between(X_test[:crosspoint], edge2[:crosspoint], edge1[:crosspoint], color='blue', alpha=0.3, \n",
    "                     label='Uncertainty')\n",
    "    plt.fill_between(X_test[crosspoint:], edge1[crosspoint:], edge2[crosspoint:], color='blue', alpha=0.3)\n",
    "else:\n",
    "    plt.fill_between(X_test, edge2, edge1, color='blue', alpha=0.3)\n",
    "\n",
    "# 显示图例\n",
    "plt.legend()\n",
    "\n",
    "# 显示图表\n",
    "plt.show()"
   ]
  },
  {
   "cell_type": "code",
   "execution_count": null,
   "metadata": {},
   "outputs": [],
   "source": []
  }
 ],
 "metadata": {
  "kernelspec": {
   "display_name": "Python 3",
   "language": "python",
   "name": "python3"
  },
  "language_info": {
   "codemirror_mode": {
    "name": "ipython",
    "version": 3
   },
   "file_extension": ".py",
   "mimetype": "text/x-python",
   "name": "python",
   "nbconvert_exporter": "python",
   "pygments_lexer": "ipython3",
   "version": "3.10.0"
  }
 },
 "nbformat": 4,
 "nbformat_minor": 2
}
