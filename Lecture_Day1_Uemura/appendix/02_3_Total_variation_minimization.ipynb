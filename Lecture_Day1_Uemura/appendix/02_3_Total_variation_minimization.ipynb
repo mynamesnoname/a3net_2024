{
 "cells": [
  {
   "cell_type": "code",
   "execution_count": 12,
   "metadata": {},
   "outputs": [],
   "source": [
    "import numpy as np\n",
    "import pymc as pm\n",
    "import matplotlib.pyplot as plt"
   ]
  },
  {
   "cell_type": "code",
   "execution_count": 13,
   "metadata": {},
   "outputs": [
    {
     "data": {
      "text/plain": [
       "<matplotlib.collections.PathCollection at 0x7f8368bbfbd0>"
      ]
     },
     "execution_count": 13,
     "metadata": {},
     "output_type": "execute_result"
    },
    {
     "data": {
      "image/png": "[encoded data removed]",
      "text/plain": [
       "<Figure size 640x480 with 1 Axes>"
      ]
     },
     "metadata": {},
     "output_type": "display_data"
    }
   ],
   "source": [
    "# 模拟数据\n",
    "X = np.random.randn(100) * 5 + 7\n",
    "error = np.random.randn(100) * 50\n",
    "Y_obs = 5 * X ** 2 + 10 * X + error\n",
    "\n",
    "plt.scatter(X, Y_obs, s=5)"
   ]
  },
  {
   "cell_type": "code",
   "execution_count": 15,
   "metadata": {},
   "outputs": [
    {
     "name": "stderr",
     "output_type": "stream",
     "text": [
      "Auto-assigning NUTS sampler...\n",
      "Initializing NUTS using jitter+adapt_diag...\n",
      "Multiprocess sampling (4 chains in 4 jobs)\n",
      "NUTS: [a, b, c, delta_a, delta_b, delta_c]\n"
     ]
    },
    {
     "data": {
      "application/vnd.jupyter.widget-view+json": {
       "model_id": "67337eab2d084dce9c30ab9dc7662ae2",
       "version_major": 2,
       "version_minor": 0
      },
      "text/plain": [
       "Output()"
      ]
     },
     "metadata": {},
     "output_type": "display_data"
    }
   ],
   "source": [
    "# Total Variation regularization strength\n",
    "lambda_tv = 0.1\n",
    "\n",
    "# TV minimization regularization\n",
    "with pm.Model() as model_tv:\n",
    "    # 定义随机变量 a, b, c\n",
    "    a = pm.Normal('a', mu=0, sigma=10)\n",
    "    b = pm.Normal('b', mu=0, sigma=10)\n",
    "    c = pm.Normal('c', mu=0, sigma=10)\n",
    "    \n",
    "    # 定义预测值\n",
    "    Y_pred = a * X ** 2 + b * X + c\n",
    "    \n",
    "    # 定义 likelihood\n",
    "    likelihood = pm.Normal('Y_obs', mu=Y_pred, sigma=50, observed=Y_obs)\n",
    "    \n",
    "    # Total variation prior regularization\n",
    "    delta_a = pm.Laplace('delta_a', mu=0, b=1/lambda_tv, shape=len(X) - 1)\n",
    "    delta_b = pm.Laplace('delta_b', mu=0, b=1/lambda_tv, shape=len(X) - 1)\n",
    "    delta_c = pm.Laplace('delta_c', mu=0, b=1/lambda_tv, shape=len(X) - 1)\n",
    "\n",
    "    # 加入正则项，使用 pm.logp\n",
    "    for i in range(1, len(X)):\n",
    "        pm.Potential(f'a_tv_{i}', pm.logp(pm.Laplace.dist(mu=a, b=1/lambda_tv), delta_a[i-1]))\n",
    "        pm.Potential(f'b_tv_{i}', pm.logp(pm.Laplace.dist(mu=b, b=1/lambda_tv), delta_b[i-1]))\n",
    "        pm.Potential(f'c_tv_{i}', pm.logp(pm.Laplace.dist(mu=c, b=1/lambda_tv), delta_c[i-1]))\n",
    "\n",
    "    # 采样\n",
    "    trace_tv = pm.sample(1000, tune=1000, return_inferencedata=False)\n",
    "\n",
    "# 绘制追踪图\n",
    "pm.plot_trace(trace_tv)\n",
    "plt.show()\n"
   ]
  },
  {
   "cell_type": "code",
   "execution_count": null,
   "metadata": {},
   "outputs": [],
   "source": [
    "X_test = np.linspace(np.floor(X.min()), np.ceil(X.max()), 100)\n",
    "\n",
    "# 真值\n",
    "Y_true = 5 * X_test ** 2 + 10 * X_test\n",
    "\n",
    "# 计算后验平均值\n",
    "a_posterior_mean = trace_elastic_net.posterior[\"a\"].mean().values\n",
    "b_posterior_mean = trace_elastic_net.posterior[\"b\"].mean().values\n",
    "c_posterior_mean = trace_elastic_net.posterior[\"c\"].mean().values\n",
    "Y_fit = a_posterior_mean * X_test ** 2 + b_posterior_mean * X_test + c_posterior_mean\n",
    "\n",
    "# 计算后验标准差\n",
    "a_posterior_std = trace_elastic_net.posterior[\"a\"].std().values\n",
    "b_posterior_std = trace_elastic_net.posterior[\"b\"].std().values\n",
    "c_posterior_std = trace_elastic_net.posterior[\"c\"].std().values\n",
    "Y_errorpred = a_posterior_std * X_test ** 2 + b_posterior_std * X_test + c_posterior_std\n",
    "\n",
    "edge1 = Y_fit + Y_errorpred\n",
    "edge2 = Y_fit - Y_errorpred\n",
    "\n",
    "crosspoint = 0\n",
    "for i in range(len(X_test)):\n",
    "    if edge1[i] < edge2[i]:\n",
    "        crosspoint = i\n",
    "        break\n",
    "\n",
    "MSE = np.mean((Y_fit - Y_true) ** 2)"
   ]
  },
  {
   "cell_type": "code",
   "execution_count": null,
   "metadata": {},
   "outputs": [],
   "source": [
    "# 绘制填充区间\n",
    "# 绘制数据点\n",
    "plt.scatter(X, Y_obs, s=5)\n",
    "\n",
    "# 绘制后验平均拟合线\n",
    "plt.plot(X_test, Y_fit, color='red', label='a={:.2f} b={:.2f} c={:.2f} MSE={:.2f}'.format(\n",
    "         a_posterior_mean, b_posterior_mean, c_posterior_mean, MSE))\n",
    "\n",
    "if crosspoint:\n",
    "    plt.fill_between(X_test[:crosspoint], edge2[:crosspoint], edge1[:crosspoint], color='blue', alpha=0.3, \n",
    "                     label='Uncertainty')\n",
    "    plt.fill_between(X_test[crosspoint:], edge1[crosspoint:], edge2[crosspoint:], color='blue', alpha=0.3)\n",
    "else:\n",
    "    plt.fill_between(X_test, edge2, edge1, color='blue', alpha=0.3)\n",
    "\n",
    "# 显示图例\n",
    "plt.legend()\n",
    "\n",
    "# 显示图表\n",
    "plt.show()\n",
    "\n",
    "#lambda=0.1,    alpha=0.05, MSE=347.40, a=4.9...,   b=9....,    c=...\n",
    "#lambda=0.12,   alpha=0.05, MSE=160.80, a=5.27,     b=6.96,     c=7.08"
   ]
  },
  {
   "cell_type": "code",
   "execution_count": null,
   "metadata": {},
   "outputs": [],
   "source": []
  }
 ],
 "metadata": {
  "kernelspec": {
   "display_name": "Python 3",
   "language": "python",
   "name": "python3"
  },
  "language_info": {
   "codemirror_mode": {
    "name": "ipython",
    "version": 3
   },
   "file_extension": ".py",
   "mimetype": "text/x-python",
   "name": "python",
   "nbconvert_exporter": "python",
   "pygments_lexer": "ipython3",
   "version": "3.11.0"
  }
 },
 "nbformat": 4,
 "nbformat_minor": 2
}
